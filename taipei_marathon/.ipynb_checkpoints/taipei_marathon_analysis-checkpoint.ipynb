{
 "cells": [
  {
   "cell_type": "code",
   "execution_count": 1,
   "metadata": {
    "collapsed": true
   },
   "outputs": [],
   "source": [
    "from selenium import webdriver\n",
    "import pandas as pd\n",
    "import numpy as np\n",
    "import re\n",
    "import tabula"
   ]
  },
  {
   "cell_type": "code",
   "execution_count": null,
   "metadata": {
    "collapsed": true
   },
   "outputs": [],
   "source": [
    "driver = webdriver.Chrome()"
   ]
  },
  {
   "cell_type": "code",
   "execution_count": null,
   "metadata": {
    "collapsed": true
   },
   "outputs": [],
   "source": [
    "def get_runner_record(url):\n",
    "    driver.get(url)\n",
    "    odd_even_l = ['OL', 'EL']\n",
    "    odd_even_r = ['OR', 'ER']\n",
    "    runner_record = {\n",
    "        'bib_num': [],\n",
    "        'name': [],\n",
    "        'cate': [],\n",
    "        'official_time': [],\n",
    "        'rank_all': [],\n",
    "        'rank_cat': [],\n",
    "        'net_time': []\n",
    "    }\n",
    "    while True:\n",
    "        next_button_xpath = \"/html/body/table[2]/tbody/tr[6]/td/table/tbody/tr/td/table/tbody/tr/td[@class='grayed'][2]/table/tbody/tr/td[3]/a\"\n",
    "        next_button = driver.find_elements_by_xpath(next_button_xpath)\n",
    "        for l in odd_even_l:\n",
    "            bib_num_xpath = '//td[@class=\\'{}\\'][1]'.format(l)\n",
    "            name_xpath = '//td[@class=\\'{}\\'][2]'.format(l)\n",
    "            cate_xpath = '//td[@class=\\'{}\\'][4]'.format(l)\n",
    "            bib_num_elem, name_elem, cate_elem = driver.find_elements_by_xpath(bib_num_xpath), driver.find_elements_by_xpath(name_xpath), driver.find_elements_by_xpath(cate_xpath)\n",
    "            for e1, e2, e3 in zip(bib_num_elem, name_elem, cate_elem):\n",
    "                runner_record['bib_num'].append(e1.text)\n",
    "                runner_record['name'].append(e2.text)\n",
    "                runner_record['cate'].append(e3.text)\n",
    "        for r in odd_even_r:\n",
    "            official_time_xpath = '//td[@class=\\'{}\\'][1]'.format(r)\n",
    "            rank_all_xpath = '//td[@class=\\'{}\\'][2]'.format(r)\n",
    "            rank_cat_xpath = '//td[@class=\\'{}\\'][3]'.format(r)\n",
    "            net_time_xpath = '//td[@class=\\'{}\\'][4]'.format(r)\n",
    "            official_time_elem, rank_all_elem, rank_cat_elem, net_time_elem = driver.find_elements_by_xpath(official_time_xpath), driver.find_elements_by_xpath(rank_all_xpath), driver.find_elements_by_xpath(rank_cat_xpath), driver.find_elements_by_xpath(net_time_xpath)\n",
    "            for e4, e5, e6, e7 in zip(official_time_elem, rank_all_elem, rank_cat_elem, net_time_elem):\n",
    "                runner_record['official_time'].append(e4.text)\n",
    "                runner_record['rank_all'].append(e5.text)\n",
    "                runner_record['rank_cat'].append(e6.text)\n",
    "                runner_record['net_time'].append(e7.text)\n",
    "        # Keep scraping the next page if Next link exists\n",
    "        if len(next_button) > 0:\n",
    "            next_button_click = driver.find_element_by_xpath(next_button_xpath)\n",
    "            next_button_click.click()\n",
    "        # Stop scraping if Next link is of absense\n",
    "        else:\n",
    "            break\n",
    "    \n",
    "    df = pd.DataFrame(runner_record)\n",
    "    return df"
   ]
  },
  {
   "cell_type": "code",
   "execution_count": null,
   "metadata": {
    "collapsed": true
   },
   "outputs": [],
   "source": [
    "def write_concatenated_df():\n",
    "    url_2011 = \"https://www.run2pix.com/report/report_w.php?EventCode=20111218&Race=MA&sn=3\"\n",
    "    url_2012 = \"https://www.run2pix.com/report/report_w.php?EventCode=20121216&Race=MA&sn=32\"\n",
    "    url_2013 = \"https://www.run2pix.com/report/report_w.php?EventCode=20131215&Race=MA&sn=57\"\n",
    "    url_2014 = \"https://www.run2pix.com/report/report_w.php?EventCode=20141221&Race=MA&sn=86\"\n",
    "    url_2015 = \"https://www.run2pix.com/report/report_w.php?EventCode=20151220&Race=MA&sn=111\"\n",
    "    url_2016 = \"https://www.run2pix.com/report/report_w.php?EventCode=20161218&Race=MA&sn=136\"\n",
    "    url_2017 = \"https://www.run2pix.com/report/report_w.php?EventCode=20171217&Race=MA&sn=161\"\n",
    "    url_list = [url_2011, url_2012, url_2013, url_2014, url_2015, url_2016, url_2017]\n",
    "    df_list = []\n",
    "    for url, yr in zip(url_list, range(2011, 2018)):\n",
    "        df = get_runner_record(url)\n",
    "        df['year'] = yr\n",
    "        df_list.append(df)\n",
    "    df = df_list[0]\n",
    "    for i in range(1, len(df_list)):\n",
    "        df = pd.concat([df, df_list[i]])\n",
    "    df.to_csv('taipei_marathon.csv', index = False)"
   ]
  },
  {
   "cell_type": "code",
   "execution_count": null,
   "metadata": {
    "collapsed": true
   },
   "outputs": [],
   "source": [
    "write_concatenated_df()"
   ]
  },
  {
   "cell_type": "code",
   "execution_count": null,
   "metadata": {
    "collapsed": true
   },
   "outputs": [],
   "source": [
    "driver.close()"
   ]
  },
  {
   "cell_type": "code",
   "execution_count": 2,
   "metadata": {},
   "outputs": [],
   "source": [
    "df_list = []\n",
    "for i in range(1, 22):\n",
    "    df = tabula.read_pdf('http://www.hakone-ekiden.jp/pdf/94_entry_team.pdf', pages = str(i))\n",
    "    df_list.append(df)"
   ]
  },
  {
   "cell_type": "code",
   "execution_count": 3,
   "metadata": {},
   "outputs": [
    {
     "data": {
      "text/html": [
       "<div>\n",
       "<style scoped>\n",
       "    .dataframe tbody tr th:only-of-type {\n",
       "        vertical-align: middle;\n",
       "    }\n",
       "\n",
       "    .dataframe tbody tr th {\n",
       "        vertical-align: top;\n",
       "    }\n",
       "\n",
       "    .dataframe thead th {\n",
       "        text-align: right;\n",
       "    }\n",
       "</style>\n",
       "<table border=\"1\" class=\"dataframe\">\n",
       "  <thead>\n",
       "    <tr style=\"text-align: right;\">\n",
       "      <th></th>\n",
       "      <th>駅伝</th>\n",
       "      <th>Unnamed: 1</th>\n",
       "      <th>Unnamed: 2</th>\n",
       "      <th>Unnamed: 3</th>\n",
       "      <th>Unnamed: 4</th>\n",
       "      <th>Unnamed: 5</th>\n",
       "      <th>Unnamed: 6</th>\n",
       "      <th>Unnamed: 7</th>\n",
       "      <th>Unnamed: 8</th>\n",
       "      <th>★5000m、10000m</th>\n",
       "      <th>Unnamed: 10</th>\n",
       "      <th>★20km、ハーフ</th>\n",
       "      <th>Unnamed: 12</th>\n",
       "      <th>Unnamed: 13</th>\n",
       "    </tr>\n",
       "  </thead>\n",
       "  <tbody>\n",
       "    <tr>\n",
       "      <th>0</th>\n",
       "      <td>NaN</td>\n",
       "      <td>氏    名</td>\n",
       "      <td>フリガナ</td>\n",
       "      <td>学年</td>\n",
       "      <td>学部</td>\n",
       "      <td>年齢</td>\n",
       "      <td>登録陸協</td>\n",
       "      <td>出身校</td>\n",
       "      <td>NaN</td>\n",
       "      <td>NaN</td>\n",
       "      <td>NaN</td>\n",
       "      <td>NaN</td>\n",
       "      <td>NaN</td>\n",
       "      <td>NaN</td>\n",
       "    </tr>\n",
       "    <tr>\n",
       "      <th>1</th>\n",
       "      <td>主将</td>\n",
       "      <td>NaN</td>\n",
       "      <td>NaN</td>\n",
       "      <td>NaN</td>\n",
       "      <td>NaN</td>\n",
       "      <td>NaN</td>\n",
       "      <td>NaN</td>\n",
       "      <td>NaN</td>\n",
       "      <td>NaN</td>\n",
       "      <td>公認最高記録</td>\n",
       "      <td>NaN</td>\n",
       "      <td>公認最高記録</td>\n",
       "      <td>NaN</td>\n",
       "      <td>NaN</td>\n",
       "    </tr>\n",
       "    <tr>\n",
       "      <th>2</th>\n",
       "      <td>NaN</td>\n",
       "      <td>近藤 修一郎</td>\n",
       "      <td>コンドウ シュウイチロウ</td>\n",
       "      <td>4</td>\n",
       "      <td>社会情報</td>\n",
       "      <td>21</td>\n",
       "      <td>熊本県</td>\n",
       "      <td>九州学院</td>\n",
       "      <td>NaN</td>\n",
       "      <td>29 : 42 .</td>\n",
       "      <td>94.0</td>\n",
       "      <td>1 : 04</td>\n",
       "      <td>:</td>\n",
       "      <td>6.0</td>\n",
       "    </tr>\n",
       "    <tr>\n",
       "      <th>3</th>\n",
       "      <td>NaN</td>\n",
       "      <td>下田 裕太</td>\n",
       "      <td>シモダ ユウタ</td>\n",
       "      <td>4</td>\n",
       "      <td>教育人間科</td>\n",
       "      <td>21</td>\n",
       "      <td>静岡県</td>\n",
       "      <td>加藤学園</td>\n",
       "      <td>NaN</td>\n",
       "      <td>28 : 33 .</td>\n",
       "      <td>77.0</td>\n",
       "      <td>1 : 02</td>\n",
       "      <td>:</td>\n",
       "      <td>22.0</td>\n",
       "    </tr>\n",
       "    <tr>\n",
       "      <th>4</th>\n",
       "      <td>NaN</td>\n",
       "      <td>田村 和希</td>\n",
       "      <td>タムラ カズキ</td>\n",
       "      <td>4</td>\n",
       "      <td>経営</td>\n",
       "      <td>22</td>\n",
       "      <td>山口県</td>\n",
       "      <td>西京</td>\n",
       "      <td>NaN</td>\n",
       "      <td>28 : 18 .</td>\n",
       "      <td>31.0</td>\n",
       "      <td>1 : 01</td>\n",
       "      <td>:</td>\n",
       "      <td>56.0</td>\n",
       "    </tr>\n",
       "  </tbody>\n",
       "</table>\n",
       "</div>"
      ],
      "text/plain": [
       "    駅伝 Unnamed: 1    Unnamed: 2 Unnamed: 3 Unnamed: 4 Unnamed: 5 Unnamed: 6  \\\n",
       "0  NaN     氏    名          フリガナ         学年         学部         年齢       登録陸協   \n",
       "1   主将        NaN           NaN        NaN        NaN        NaN        NaN   \n",
       "2  NaN     近藤 修一郎  コンドウ シュウイチロウ          4       社会情報         21        熊本県   \n",
       "3  NaN      下田 裕太       シモダ ユウタ          4      教育人間科         21        静岡県   \n",
       "4  NaN      田村 和希       タムラ カズキ          4         経営         22        山口県   \n",
       "\n",
       "  Unnamed: 7 Unnamed: 8 ★5000m、10000m  Unnamed: 10 ★20km、ハーフ Unnamed: 12  \\\n",
       "0        出身校        NaN           NaN          NaN       NaN         NaN   \n",
       "1        NaN        NaN        公認最高記録          NaN    公認最高記録         NaN   \n",
       "2       九州学院        NaN     29 : 42 .         94.0    1 : 04           :   \n",
       "3       加藤学園        NaN     28 : 33 .         77.0    1 : 02           :   \n",
       "4         西京        NaN     28 : 18 .         31.0    1 : 01           :   \n",
       "\n",
       "   Unnamed: 13  \n",
       "0          NaN  \n",
       "1          NaN  \n",
       "2          6.0  \n",
       "3         22.0  \n",
       "4         56.0  "
      ]
     },
     "execution_count": 3,
     "metadata": {},
     "output_type": "execute_result"
    }
   ],
   "source": [
    "df_list[0].head()"
   ]
  },
  {
   "cell_type": "code",
   "execution_count": 4,
   "metadata": {},
   "outputs": [],
   "source": [
    "# dealing with ugly pdf tables...\n",
    "ser = df_list[0].iloc[:, 9]\n",
    "for i in range(1, 21):\n",
    "    if i in [1, 2, 8, 9, 20]:\n",
    "        s = df_list[i].iloc[:, 9]\n",
    "    else:\n",
    "        s = df_list[i].iloc[:, 8]\n",
    "    ser = ser.append(s)"
   ]
  },
  {
   "cell_type": "code",
   "execution_count": 5,
   "metadata": {
    "collapsed": true
   },
   "outputs": [],
   "source": [
    "def is_10000_m(x):\n",
    "    'a function to judge if it is a 10000m record'\n",
    "    if re.match('^1', x) == None:\n",
    "        return True\n",
    "    else:\n",
    "        return False\n",
    "\n",
    "# data cleaning\n",
    "ser_no_nan = ser[~pd.isnull(ser)]\n",
    "ser_cleaned = ser_no_nan[ser_no_nan != '公認最高記録']\n",
    "ser_cleaned = ser_cleaned.reset_index(drop = True)\n",
    "is_10000_m_list = []\n",
    "for i in ser_cleaned:\n",
    "    is_10000_m_list.append(is_10000_m(i))\n",
    "ser_unsplit = ser_cleaned[is_10000_m_list]\n",
    "ser_split = ser_unsplit.str.split('[:\\.]')\n",
    "seconds_list = []\n",
    "for i in ser_split:\n",
    "    second = int(i[0].strip()) * 60 + int(i[1].strip())\n",
    "    seconds_list.append(second)\n",
    "seconds_arr = np.array(seconds_list)"
   ]
  },
  {
   "cell_type": "code",
   "execution_count": 6,
   "metadata": {},
   "outputs": [
    {
     "name": "stdout",
     "output_type": "stream",
     "text": [
      "322\n",
      "94\n"
     ]
    }
   ],
   "source": [
    "print(len(seconds_arr))\n",
    "print(len(seconds_arr[seconds_arr < (29*60 + 12)]))"
   ]
  }
 ],
 "metadata": {
  "kernelspec": {
   "display_name": "seleniumpy",
   "language": "python",
   "name": "seleniumpy"
  },
  "language_info": {
   "codemirror_mode": {
    "name": "ipython",
    "version": 3
   },
   "file_extension": ".py",
   "mimetype": "text/x-python",
   "name": "python",
   "nbconvert_exporter": "python",
   "pygments_lexer": "ipython3",
   "version": "3.6.2"
  }
 },
 "nbformat": 4,
 "nbformat_minor": 2
}
